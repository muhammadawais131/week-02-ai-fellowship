{
  "cells": [
    {
      "cell_type": "markdown",
      "source": [
        "# ***Week # 02 Assignment ***"
      ],
      "metadata": {
        "id": "GKuRA5FhWsN1"
      },
      "id": "GKuRA5FhWsN1"
    },
    {
      "cell_type": "markdown",
      "id": "8e3c5144",
      "metadata": {
        "id": "8e3c5144"
      },
      "source": [
        "---\n",
        "\n",
        "## 🌟 Large Language Models (LLMs) 🌟"
      ]
    },
    {
      "cell_type": "markdown",
      "id": "03968dc4",
      "metadata": {
        "id": "03968dc4"
      },
      "source": [
        "---\n",
        "\n",
        "### ❗ **Question 1**: What is an LLM?"
      ]
    },
    {
      "cell_type": "markdown",
      "id": "9dd894fc",
      "metadata": {
        "id": "9dd894fc"
      },
      "source": [
        "👉 It’s like a super-smart text predictor that can read, understand, and generate human-like sentences.\n",
        "\n",
        "You give it some words → it guesses the next words in a way that makes sense.\n",
        "\n",
        "For example:\n",
        "\n",
        "1) You ask a question → it gives you an answer.\n",
        "\n",
        "2) You write a sentence → it can complete it.\n",
        "\n",
        "3) You give it a topic → it can write an essay, code, or even a story.\n",
        "\n",
        "So, its a type of AI trained on huge amounts of text data to generate or understand text.\n",
        "\n",
        "---"
      ]
    },
    {
      "cell_type": "markdown",
      "id": "8b1b2dd4",
      "metadata": {
        "id": "8b1b2dd4"
      },
      "source": [
        "### 💡 **Quick Questions**:"
      ]
    },
    {
      "cell_type": "markdown",
      "id": "7753565a",
      "metadata": {
        "id": "7753565a"
      },
      "source": [
        "1. Why might a chatbot built on BERT (encoder-only) struggle to answer open-ended questions?\n",
        "\n",
        "- Answer : A BERT chatbot is great for finding answers in a text,But its not built to create new sentences or stories. It's like someone who's amazing at finding a quote in a book but struggles to write a new one from scratch."
      ]
    },
    {
      "cell_type": "markdown",
      "id": "a5feffca",
      "metadata": {
        "id": "a5feffca"
      },
      "source": [
        "---\n",
        "\n",
        "## 🌟 Speech-to-Text (STT) 🌟"
      ]
    },
    {
      "cell_type": "markdown",
      "id": "9393abf7",
      "metadata": {
        "id": "9393abf7"
      },
      "source": [
        "---\n",
        "\n",
        "### ❗ **Question 2**: What is STT?"
      ]
    },
    {
      "cell_type": "markdown",
      "id": "3f54ac00",
      "metadata": {
        "id": "3f54ac00"
      },
      "source": [
        "👉 listens to your voice and turns it into written text.\n",
        "\n",
        "- Converts **audio → text**.\n",
        "- Enables voice input for conversational AI.\n",
        "- Think of it as the **ears** of the chatbot.\n",
        "\n",
        "**Popular STT Models**:\n",
        "\n",
        "1) **Whisper (OpenAI)** – strong at multilingual speech recognition.\n",
        "2) **Google Speech-to-Text API** – widely used, real-time transcription.\n",
        "3) **Vosk** – lightweight, offline speech recognition.\n",
        "\n",
        "**Common Usages**\n",
        "\n",
        "1) Voice assistants (Alexa, Siri, Google Assistant).\n",
        "2) Automated captions in meetings or lectures.\n",
        "3) Voice-enabled customer support.\n",
        "\n",
        "---"
      ]
    },
    {
      "cell_type": "markdown",
      "id": "ec23bf9a",
      "metadata": {
        "id": "ec23bf9a"
      },
      "source": [
        "### 💡 **Quick Questions**:"
      ]
    },
    {
      "cell_type": "markdown",
      "id": "407d8a82",
      "metadata": {
        "id": "407d8a82"
      },
      "source": [
        "2. Why do you think meeting transcription apps like Zoom or Google Meet struggle when multiple people talk at once?\n",
        "\n",
        "- Answer : The app is built to focus on and transcribe one voice at a time. When people talk over each other,The audio blends together and the software cant separate the words clearly anymore."
      ]
    },
    {
      "cell_type": "markdown",
      "id": "f2959a81",
      "metadata": {
        "id": "f2959a81"
      },
      "source": [
        "---\n",
        "\n",
        "## 🌟 Text-to-Speech (TTS) 🌟"
      ]
    },
    {
      "cell_type": "markdown",
      "id": "6650b62d",
      "metadata": {
        "id": "6650b62d"
      },
      "source": [
        "---\n",
        "\n",
        "### ❗ **Question 3**: What is TTS?"
      ]
    },
    {
      "cell_type": "markdown",
      "metadata": {
        "id": "OVNIk9qlE25z"
      },
      "source": [
        "👉 takes written text and speaks it out loud in a human-like voice.\n",
        "\n",
        "- Converts **text → audio (speech)**.\n",
        "- Think of it as the **mouth** of the chatbot.\n",
        "- Makes AI “speak” naturally.\n",
        "\n",
        "**Popular TTS Models**:\n",
        "\n",
        "1) **Google TTS** – supports many languages and voices.\n",
        "2) **Amazon Polly** – lifelike voice synthesis with customization.\n",
        "3) **ElevenLabs** – cutting-edge, realistic voice cloning.\n",
        "\n",
        "**Common Usages**\n",
        "\n",
        "1) Screen readers for visually impaired users.\n",
        "2) AI chatbots with voice output.\n",
        "3) Audiobooks or podcast generation.\n",
        "\n",
        "---"
      ],
      "id": "OVNIk9qlE25z"
    },
    {
      "cell_type": "markdown",
      "id": "ee49cb51",
      "metadata": {
        "id": "ee49cb51"
      },
      "source": [
        "### 💡 **Quick Questions**:"
      ]
    },
    {
      "cell_type": "markdown",
      "id": "ee8f3eb2",
      "metadata": {
        "id": "ee8f3eb2"
      },
      "source": [
        "3. If you were designing a voice-based AI tutor, what qualities would you want in its TTS voice (tone, speed, clarity, etc.)?\n",
        "\n",
        "- Answer : I'd want a voice thats clear and calm,with a patient and encouraging tone.It should speak at a steady pace to make complex topics easy to follow and understand."
      ]
    },
    {
      "cell_type": "markdown",
      "id": "8042c582",
      "metadata": {
        "id": "8042c582"
      },
      "source": [
        "---\n",
        "\n",
        "## 🌟 Using APIs for LLMs with Groq 🌟"
      ]
    },
    {
      "cell_type": "code",
      "execution_count": null,
      "id": "7889d8ee",
      "metadata": {
        "id": "7889d8ee",
        "outputId": "753d8fd4-f313-413f-88b7-8b5ad5133668"
      },
      "outputs": [
        {
          "name": "stdout",
          "output_type": "stream",
          "text": [
            "Conversational AI refers to the technology that enables computers or digital systems to simulate human-like conversations with humans. This is achieved through the use of natural language processing (NLP) and machine learning algorithms that allow AI systems to understand, interpret, and respond to human input in a way that feels natural and intuitive.\n",
            "\n",
            "Conversational AI can take many forms, including:\n",
            "\n",
            "1. **Chatbots**: These are AI-powered software programs that can engage in text-based conversations with humans, often used to provide customer support, answer frequently asked questions, or facilitate transactions.\n",
            "2. **Virtual assistants**: These are AI-powered digital assistants, such as Siri, Google Assistant, or Alexa, that can understand voice commands and respond with relevant information or actions.\n",
            "3. **Voice-controlled interfaces**: These are AI-powered interfaces that allow users to interact with devices using voice commands, such as smart speakers or home automation systems.\n",
            "4. **Live chat applications**: These are AI-powered chat platforms that allow humans to interact with companies or organizations in real-time, often used for customer support or sales purposes.\n",
            "\n",
            "The key characteristics of conversational AI include:\n",
            "\n",
            "1. **Natural language understanding**: The ability to comprehend human language and syntax.\n",
            "2. **Contextual understanding**: The ability to understand the context of the conversation and respond accordingly.\n",
            "3. **Sentiment analysis**: The ability to recognize and respond to emotions and tone.\n",
            "4. **Flexibility**: The ability to adapt to changing conversation flows and user inputs.\n",
            "\n",
            "Conversational AI has many applications, including:\n",
            "\n",
            "1. **Customer service**: AI-powered chatbots can provide 24/7 customer support and answer frequently asked questions.\n",
            "2. **Sales**: Conversational AI can be used to engage with customers, answer product inquiries, and facilitate transactions.\n",
            "3. **Healthcare**: Conversational AI can be used to provide patient support, answer medical questions, and facilitate health education.\n",
            "4. **Education**: Conversational AI can be used to provide personalized feedback, answer student questions, and facilitate learning.\n",
            "\n",
            "Overall, conversational AI has the potential to revolutionize the way we interact with technology and each other, making communication more natural, intuitive, and accessible.\n"
          ]
        }
      ],
      "source": [
        "from groq import Groq\n",
        "\n",
        "client = Groq(api_key=\"\")\n",
        "\n",
        "response = client.chat.completions.create(\n",
        "    model=\"llama-3.1-8b-instant\",\n",
        "    messages=[{\"role\": \"user\", \"content\": \"Hello! What is conversational AI?\"}]\n",
        ")\n",
        "\n",
        "print(response.choices[0].message.content)\n"
      ]
    },
    {
      "cell_type": "markdown",
      "id": "a56c20eb",
      "metadata": {
        "id": "a56c20eb"
      },
      "source": [
        "---\n",
        "\n",
        "## 🌟 Assignments 🌟"
      ]
    },
    {
      "cell_type": "markdown",
      "id": "2bcc2ce6",
      "metadata": {
        "id": "2bcc2ce6"
      },
      "source": [
        "### 📝 Assignment 1: LLM Understanding\n",
        "\n",
        "* Write a short note (3–4 sentences) explaining the difference between **encoder-only, decoder-only, and encoder-decoder LLMs**.\n",
        "* Give one example usage of each.\n",
        "\n",
        "Answer: **Encoder-only models** (like BERT) are best for understanding text, such as analyzing sentiment in reviews. **Decoder-only models** (like GPT) excel at generating text, making them ideal for creative writing or chatbots. **Encoder-decoder models** (like T5) transform input text into new output, perfect for tasks like translation or summarization."
      ]
    },
    {
      "cell_type": "markdown",
      "id": "370084b8",
      "metadata": {
        "id": "370084b8"
      },
      "source": [
        "### 📝 Assignment 2: STT/TTS Exploration\n",
        "\n",
        "* Find **one STT model** and **one TTS model** (other than Whisper/Google).\n",
        "* Write down:\n",
        "\n",
        "  * What it does.\n",
        "  * One possible application.\n",
        "\n",
        "Answer : **STT Model: AssemblyAI** — It converts spoken audio into accurate text transcripts. It's used for generating subtitles for videos automatically.\n",
        "\n",
        "**TTS Model: ElevenLabs** — It creates incredibly natural and expressive synthetic speech from text. It's perfect for making voiceovers for YouTube videos."
      ]
    },
    {
      "cell_type": "markdown",
      "id": "84824b65",
      "metadata": {
        "id": "84824b65"
      },
      "source": [
        "### 📝 Assignment 3: Build a Chatbot with Memory\n",
        "\n",
        "* Write a Python program that:\n",
        "\n",
        "  * Takes user input in a loop.\n",
        "  * Sends it to Groq API.\n",
        "  * Stores the last 5 messages in memory.\n",
        "  * Ends when user types `\"quit\"`.\n",
        "  "
      ]
    },
    {
      "cell_type": "code",
      "source": [
        "# Installing  required library\n",
        "!pip install requests\n",
        "\n",
        "\n",
        "import requests\n",
        "import json\n",
        "\n",
        "# Set up Groq API\n",
        "GROQ_API_KEY = \"your_groq_api_key_here\"\n",
        "GROQ_API_URL = \"https://api.groq.com/openai/v1/chat/completions\"\n",
        "\n",
        "# Initializing message history\n",
        "message_history = []\n",
        "\n",
        "def chat_with_groq(user_input):\n",
        "    \"\"\"Send user input to Groq API and return the response\"\"\"\n",
        "    global message_history  # Add this line to access the global variable\n",
        "\n",
        "    # headers\n",
        "    headers = {\n",
        "        \"Authorization\": f\"Bearer {GROQ_API_KEY}\",\n",
        "    \"Content-Type\": \"application/json\"\n",
        "    }\n",
        "\n",
        "\n",
        "    payload = {\n",
        "        \"model\": \"llama3-8b-8192\",  # You can change this to other Groq models\n",
        "        \"messages\": message_history + [{\"role\": \"user\", \"content\": user_input}],\n",
        "        \"temperature\": 0.7,\n",
        "        \"max_tokens\": 1024\n",
        "    }\n",
        "\n",
        "    try:\n",
        "        # Make the API request\n",
        "        response = requests.post(GROQ_API_URL, headers=headers, json=payload)\n",
        "        response.raise_for_status()  # Raise an exception for bad status codes\n",
        "\n",
        "        # Parse the response\n",
        "        response_data = response.json()\n",
        "        assistant_reply = response_data['choices'][0]['message']['content']\n",
        "\n",
        "        # Update  a message history\n",
        "        message_history.append({\"role\": \"user\", \"content\": user_input})\n",
        "        message_history.append({\"role\": \"assistant\", \"content\": assistant_reply})\n",
        "\n",
        "        # Keep only the last 5 messages\n",
        "        if len(message_history) > 10:\n",
        "            message_history = message_history[-10:]\n",
        "\n",
        "        return assistant_reply\n",
        "\n",
        "    except requests.exceptions.RequestException as e:\n",
        "        return f\"Error making API request: {str(e)}\"\n",
        "    except KeyError:\n",
        "        return \"Error parsing API response\"\n",
        "\n",
        "# Main chat loop\n",
        "print(\"Welcome to the Groq Chatbot! Type 'quit' to exit.\")\n",
        "while True:\n",
        "    # Get user input\n",
        "    user_input = input(\"You: \")\n",
        "\n",
        "    # Check if user wants to quit\n",
        "    if user_input.lower() == \"quit\":\n",
        "        print(\"Goodbye!\")\n",
        "        break\n",
        "\n",
        "    # Get response from Groq\n",
        "    response = chat_with_groq(user_input)\n",
        "\n",
        "    # Print the response\n",
        "    print(\"Bot:\", response)\n",
        "    print()  # Empty line for better readability"
      ],
      "metadata": {
        "colab": {
          "base_uri": "https://localhost:8080/"
        },
        "id": "ly1Bm4h0bJWJ",
        "outputId": "a60e0b21-3d08-452d-bc53-36db6a8fa743"
      },
      "id": "ly1Bm4h0bJWJ",
      "execution_count": 2,
      "outputs": [
        {
          "output_type": "stream",
          "name": "stdout",
          "text": [
            "Requirement already satisfied: requests in /usr/local/lib/python3.12/dist-packages (2.32.4)\n",
            "Requirement already satisfied: charset_normalizer<4,>=2 in /usr/local/lib/python3.12/dist-packages (from requests) (3.4.3)\n",
            "Requirement already satisfied: idna<4,>=2.5 in /usr/local/lib/python3.12/dist-packages (from requests) (3.10)\n",
            "Requirement already satisfied: urllib3<3,>=1.21.1 in /usr/local/lib/python3.12/dist-packages (from requests) (2.5.0)\n",
            "Requirement already satisfied: certifi>=2017.4.17 in /usr/local/lib/python3.12/dist-packages (from requests) (2025.8.3)\n",
            "Welcome to the Groq Chatbot! Type 'quit' to exit.\n",
            "You: hi how are you\n",
            "Bot: I'm just a language model, I don't have feelings or emotions like humans do, but I'm functioning properly and ready to assist you with any questions or tasks you may have. How can I help you today?\n",
            "\n",
            "You: ok tell me about Ai \n",
            "Bot: A vast and fascinating topic! Artificial Intelligence (AI) is a field of computer science that focuses on creating intelligent machines that can perform tasks that typically require human intelligence, such as:\n",
            "\n",
            "1. **Learning**: AI systems can learn from data, improve their performance over time, and adapt to new situations.\n",
            "2. **Problem-solving**: AI can solve complex problems, make decisions, and optimize processes.\n",
            "3. **Perception**: AI systems can interpret and understand data from sensors, images, and videos.\n",
            "4. **Reasoning**: AI can draw logical conclusions and make inferences based on the data it has learned.\n",
            "\n",
            "There are many types of AI, including:\n",
            "\n",
            "1. **Narrow or Weak AI**: Designed to perform a specific task, such as playing chess or recognizing faces.\n",
            "2. **General or Strong AI**: A hypothetical AI that possesses human-like intelligence and can perform any intellectual task.\n",
            "3. **Superintelligence**: A hypothetical AI that is significantly more intelligent than the greatest human minds.\n",
            "4. **Artificial General Intelligence (AGI)**: A hypothetical AI that possesses human-like intelligence and can perform any intellectual task.\n",
            "\n",
            "Some of the key applications of AI include:\n",
            "\n",
            "1. **Machine Learning**: AI systems can learn from data and improve their performance over time.\n",
            "2. **Natural Language Processing (NLP)**: AI systems can understand and generate human language.\n",
            "3. **Computer Vision**: AI systems can interpret and understand visual data from images and videos.\n",
            "4. **Robotics**: AI systems can control robots and enable them to perform tasks that typically require human intelligence.\n",
            "\n",
            "The benefits of AI include:\n",
            "\n",
            "1. **Increased Efficiency**: AI can automate repetitive tasks, freeing up human time for more strategic work.\n",
            "2. **Improved Accuracy**: AI can analyze large amounts of data and make decisions more quickly and accurately than humans.\n",
            "3. **Enhanced Decision-Making**: AI can provide insights and recommendations to support human decision-making.\n",
            "4. **New Opportunities**: AI has the potential to create new industries, jobs, and services.\n",
            "\n",
            "However, AI also raises important ethical concerns, such as:\n",
            "\n",
            "1. **Job Displacement**: AI could potentially displace human workers in certain industries.\n",
            "2. **Bias and Discrimination**: AI systems can perpetuate biases and discrimination if they are trained on biased data.\n",
            "3. **Privacy and Security**: AI systems can collect and analyze large amounts of personal data, raising concerns about privacy and security.\n",
            "4. **Ethical Considerations**: AI systems may need to be programmed to consider ethical principles, such as fairness, transparency, and accountability.\n",
            "\n",
            "I hope this gives you a good overview of AI! Do you have any specific questions or topics you'd like to explore further?\n",
            "\n",
            "You: is chatbots is helpfull in our buiseness\n",
            "Bot: Chatbots can be a valuable addition to many businesses, offering numerous benefits and opportunities for improvement. Here are some ways chatbots can help your business:\n",
            "\n",
            "1. **Customer Support**: Chatbots can provide 24/7 customer support, answering frequent questions, and helping customers with simple issues, freeing up human customer support agents to focus on more complex problems.\n",
            "2. **Lead Generation**: Chatbots can engage with website visitors, qualify leads, and route them to the right salesperson or email campaign, increasing the chances of conversion.\n",
            "3. **Sales**: Chatbots can assist with sales by providing product information, answering questions, and even helping with the purchasing process.\n",
            "4. **Marketing**: Chatbots can help with marketing by:\n",
            "\t* Providing personalized product recommendations\n",
            "\t* Sending targeted promotions and offers\n",
            "\t* Collecting feedback and sentiment analysis\n",
            "5. **Data Collection**: Chatbots can collect valuable data on customer interactions, behavior, and preferences, helping you gain insights to improve your business.\n",
            "6. **Cost Savings**: Chatbots can reduce the workload of human customer support agents, freeing up resources and reducing costs.\n",
            "7. **Improved Response Time**: Chatbots can respond to customer inquiries in real-time, providing immediate answers and reducing wait times.\n",
            "8. **Personalization**: Chatbots can be programmed to provide personalized experiences for customers, increasing engagement and loyalty.\n",
            "9. **Accessibility**: Chatbots can be used to provide support in multiple languages, making it easier for customers to interact with your business.\n",
            "10. **Scalability**: Chatbots can handle a high volume of conversations simultaneously, making them ideal for businesses with a large customer base.\n",
            "\n",
            "Some industries where chatbots are particularly useful include:\n",
            "\n",
            "1. **E-commerce**: Chatbots can help with product recommendations, order tracking, and returns.\n",
            "2. **Financial Services**: Chatbots can assist with account management, loan applications, and investment advice.\n",
            "3. **Healthcare**: Chatbots can provide health advice, schedule appointments, and help with medication reminders.\n",
            "4. **Travel**: Chatbots can help with booking flights, hotels, and rental cars, as well as providing travel recommendations.\n",
            "5. **Education**: Chatbots can assist with course enrollment, provide academic advice, and help with student support.\n",
            "\n",
            "To get the most out of chatbots, it's essential to:\n",
            "\n",
            "1. **Define clear goals and objectives**: Identify what you want to achieve with your chatbot.\n",
            "2. **Design a user-friendly interface**: Make sure your chatbot is easy to use and understand.\n",
            "3. **Train your chatbot**: Provide your chatbot with enough training data to ensure it can effectively respond to customer inquiries.\n",
            "4. **Monitor and analyze performance**: Track your chatbot's performance and make adjustments as needed.\n",
            "5. **Integrate with existing systems**: Ensure your chatbot integrates seamlessly with your existing customer support, CRM, and other systems.\n",
            "\n",
            "By following these best practices, you can create a chatbot that helps your business improve customer satisfaction, reduce costs, and increase revenue.\n",
            "\n",
            "You: great is data engineering is a good domain\n",
            "Bot: Data Engineering is an excellent domain, and it's in high demand across various industries. Here's why:\n",
            "\n",
            "1. **Data-driven decision-making**: Companies are increasingly relying on data to make informed decisions. Data Engineers play a crucial role in designing, building, and maintaining the infrastructure that enables this decision-making process.\n",
            "2. **Big Data and Analytics**: With the explosion of big data, companies need Data Engineers to handle the scale, complexity, and velocity of large datasets. This domain requires expertise in data processing, storage, and analysis.\n",
            "3. **Cloud Computing**: The shift to cloud computing has created a massive demand for Data Engineers who can design, build, and deploy scalable data architectures in cloud environments.\n",
            "4. **Real-time Data Processing**: The need for real-time data processing has increased significantly, driven by applications such as IoT, real-time analytics, and streaming data. Data Engineers must design and implement systems that can handle high-speed data processing.\n",
            "5. **Artificial Intelligence and Machine Learning**: AI and ML models require large amounts of high-quality data to train and validate. Data Engineers play a critical role in preparing and processing this data.\n",
            "6. **Data Governance and Compliance**: With increasing regulatory requirements and data privacy concerns, Data Engineers must ensure that data is properly governed, secured, and compliant with relevant regulations.\n",
            "7. **High-demand job market**: Data Engineering is a highly sought-after skill set, with many companies competing for top talent. This means that Data Engineers can command competitive salaries and have a wide range of job opportunities.\n",
            "8. **Constant learning and growth**: Data Engineering is a rapidly evolving field, with new technologies, frameworks, and tools emerging constantly. This requires Data Engineers to stay up-to-date with the latest developments and continuously learn new skills.\n",
            "\n",
            "Some of the key skills and technologies in Data Engineering include:\n",
            "\n",
            "1. **Programming languages**: Python, Java, Scala, and SQL\n",
            "2. **Data Processing**: Spark, Hadoop, Hive, Pig, and Impala\n",
            "3. **Data Storage**: relational databases (e.g., MySQL), NoSQL databases (e.g., Cassandra, MongoDB), and cloud storage solutions (e.g., AWS S3, Google Cloud Storage)\n",
            "4. **Cloud Platforms**: AWS, Azure, Google Cloud, and Cloud Foundry\n",
            "5. **Data Integration**: Apache NiFi, Talend, and Informatica\n",
            "6. **Data Governance**: Apache Atlas, Apache Ranger, and AWS IAM\n",
            "7. **Machine Learning**: TensorFlow, PyTorch, and Scikit-learn\n",
            "8. **Big Data Analytics**: Apache Hive, Apache Pig, and Apache Spark SQL\n",
            "\n",
            "If you're interested in pursuing a career in Data Engineering, here are some tips to get you started:\n",
            "\n",
            "1. **Learn the basics**: Start with programming languages like Python, Java, or Scala, and then move on to data processing technologies like Spark and Hadoop.\n",
            "2. **Focus on cloud computing**: Familiarize yourself with cloud platforms like AWS, Azure, and Google Cloud, as well as cloud-based data storage and processing solutions.\n",
            "3. **Practice with real-world projects**: Build projects that involve data processing, analysis, and visualization to gain practical experience.\n",
            "4. **Stay up-to-date with industry trends**: Follow industry leaders, blogs, and news sources to stay current with the latest developments and advancements in Data Engineering.\n",
            "5. **Network with professionals**: Attend conferences, meetups, and online forums to connect with other Data Engineers and learn from their experiences.\n",
            "\n",
            "Remember, Data Engineering is a challenging and rewarding field that requires continuous learning and growth. With the right skills, knowledge, and attitude, you can build a successful career in this domain!\n",
            "\n",
            "You: what we are talking about on which topic\n",
            "Bot: We've been discussing Artificial Intelligence (AI) and Data Engineering. We've covered topics such as:\n",
            "\n",
            "1. Artificial Intelligence (AI) and its applications\n",
            "2. Chatbots and their benefits in businesses\n",
            "3. Data Engineering as a domain and its importance\n",
            "4. The skills and technologies required for Data Engineering\n",
            "5. The job market and prospects for Data Engineers\n",
            "\n",
            "Let me know if you'd like to explore any of these topics further or if you have a new topic in mind!\n",
            "\n",
            "You: Thaks for giving me information \n",
            "Bot: You're welcome! It was my pleasure to provide you with information and insights on Artificial Intelligence and Data Engineering. I hope you found it helpful and informative.\n",
            "\n",
            "If you have any more questions or topics you'd like to discuss, feel free to ask me anytime. I'm here to help and provide assistance.\n",
            "\n",
            "Remember, learning is a continuous process, and it's great that you're taking the initiative to explore new topics and expand your knowledge.\n",
            "\n",
            "Keep learning, and stay curious!\n",
            "\n",
            "You: quit\n",
            "Goodbye!\n"
          ]
        }
      ]
    },
    {
      "cell_type": "markdown",
      "id": "1aef3132",
      "metadata": {
        "id": "1aef3132"
      },
      "source": [
        "### 📝 Assignment 4: Preprocessing Function\n",
        "\n",
        "* Write a function to clean user input:\n",
        "\n",
        "  * Lowercase text.\n",
        "  * Remove punctuation.\n",
        "  * Strip extra spaces.\n",
        "\n",
        "Test with: `\"  HELLo!!!  How ARE you?? \"`\n",
        "\n",
        "Ans:"
      ]
    },
    {
      "cell_type": "code",
      "source": [
        "def clean_text(text):\n",
        "    text = text.lower().replace('!', '').replace('?', '')\n",
        "    return ' '.join(text.split())\n",
        "\n",
        "# Test\n",
        "test_input = \" HELLo!!! How ARE you?? \"\n",
        "print(f\"Cleaned: '{clean_text(test_input)}'\")"
      ],
      "metadata": {
        "colab": {
          "base_uri": "https://localhost:8080/"
        },
        "id": "RYSk04pzf882",
        "outputId": "e4084a36-ecbd-4b59-aa95-71bd829c5b0c"
      },
      "id": "RYSk04pzf882",
      "execution_count": 3,
      "outputs": [
        {
          "output_type": "stream",
          "name": "stdout",
          "text": [
            "Cleaned: 'hello how are you'\n"
          ]
        }
      ]
    },
    {
      "cell_type": "markdown",
      "id": "53027998",
      "metadata": {
        "id": "53027998"
      },
      "source": [
        "### 📝 Assignment 5: Text Preprocessing\n",
        "\n",
        "* Write a function that:\n",
        "\n",
        "    * Converts text to lowercase.\n",
        "    * Removes punctuation & numbers.\n",
        "    * Removes stopwords (`the, is, and...`).\n",
        "    * Applies stemming or lemmatization.\n",
        "    * Removes words shorter than 3 characters.\n",
        "    * Keeps only nouns, verbs, and adjectives (using POS tagging).\n",
        "\n",
        "    Answer :"
      ]
    },
    {
      "cell_type": "code",
      "source": [
        "import nltk\n",
        "from nltk.corpus import stopwords\n",
        "from nltk.stem import PorterStemmer\n",
        "from nltk.tokenize import word_tokenize\n",
        "from nltk import pos_tag\n",
        "\n",
        "# Download ALL required NLTK data with progress shown\n",
        "print(\"Downloading NLTK resources...\")\n",
        "nltk.download('punkt')\n",
        "nltk.download('stopwords')\n",
        "nltk.download('averaged_perceptron_tagger')\n",
        "nltk.download('punkt_tab')\n",
        "print(\"All downloads completed!\")\n",
        "print()\n",
        "\n",
        "def preprocess_text(text):\n",
        "    # 1. Convert to lowercase\n",
        "    text = text.lower()\n",
        "\n",
        "    # 2. Remove punctuation & numbers\n",
        "    import string\n",
        "    text = text.translate(str.maketrans('', '', string.punctuation + string.digits))\n",
        "\n",
        "    # Tokenize the text\n",
        "    words = word_tokenize(text)\n",
        "\n",
        "    # 3. Remove stopwords\n",
        "    stop_words = set(stopwords.words('english'))\n",
        "    words = [word for word in words if word not in stop_words]\n",
        "\n",
        "    # 4. Apply stemming\n",
        "    stemmer = PorterStemmer()\n",
        "    words = [stemmer.stem(word) for word in words]\n",
        "\n",
        "    # 5. Remove words shorter than 3 characters\n",
        "    words = [word for word in words if len(word) >= 3]\n",
        "\n",
        "    # 6. Keep only nouns, verbs, and adjectives using POS tagging\n",
        "    pos_tags = pos_tag(words)\n",
        "    allowed_pos = ['NN', 'NNS', 'NNP', 'NNPS', 'VB', 'VBD', 'VBG', 'VBN', 'VBP', 'VBZ', 'JJ', 'JJR', 'JJS']\n",
        "    filtered_words = [word for word, pos in pos_tags if pos in allowed_pos]\n",
        "\n",
        "    return ' '.join(filtered_words)\n",
        "\n",
        "test_text = \"The amazing programmers are coding 5 fantastic projects in Python!!!\"\n",
        "result = preprocess_text(test_text)\n",
        "print(f\"Original: {test_text}\")\n",
        "print(f\"Processed: {result}\")"
      ],
      "metadata": {
        "colab": {
          "base_uri": "https://localhost:8080/"
        },
        "id": "bh5I0JJ6jkWx",
        "outputId": "786d0c58-39c3-4fe6-b5c1-1010a0c5db9e"
      },
      "id": "bh5I0JJ6jkWx",
      "execution_count": 8,
      "outputs": [
        {
          "output_type": "stream",
          "name": "stdout",
          "text": [
            "Downloading NLTK resources...\n",
            "All downloads completed!\n",
            "\n",
            "Original: The amazing programmers are coding 5 fantastic projects in Python!!!\n",
            "Processed: amaz programm code fantast project python\n"
          ]
        },
        {
          "output_type": "stream",
          "name": "stderr",
          "text": [
            "[nltk_data] Downloading package punkt to /root/nltk_data...\n",
            "[nltk_data]   Package punkt is already up-to-date!\n",
            "[nltk_data] Downloading package stopwords to /root/nltk_data...\n",
            "[nltk_data]   Package stopwords is already up-to-date!\n",
            "[nltk_data] Downloading package averaged_perceptron_tagger to\n",
            "[nltk_data]     /root/nltk_data...\n",
            "[nltk_data]   Package averaged_perceptron_tagger is already up-to-\n",
            "[nltk_data]       date!\n",
            "[nltk_data] Downloading package punkt_tab to /root/nltk_data...\n",
            "[nltk_data]   Package punkt_tab is already up-to-date!\n"
          ]
        }
      ]
    },
    {
      "cell_type": "markdown",
      "id": "bb68c035",
      "metadata": {
        "id": "bb68c035"
      },
      "source": [
        "### 📝 Assignment 6: Reflection\n",
        "\n",
        "* Answer in 2–3 sentences:\n",
        "\n",
        "    * Why is context memory important in chatbots?\n",
        "\n",
        "    Answer: Context memory allows chatbots to remember previous conversations and maintain continuity. This makes interactions more natural and helpful, as the chatbot can reference earlier messages instead of treating each query as completely separate.\n",
        "    * Why should beginners always check **API limits and pricing**?\n",
        "\n",
        " Answer : Beginners should check API limits and pricing to avoid unexpected charges or service interruptions. Free tiers often have usage limits, and exceeding them can result in costs or blocked access to the API service.\n"
      ]
    },
    {
      "cell_type": "markdown",
      "id": "4b787de4",
      "metadata": {
        "id": "4b787de4"
      },
      "source": [
        "---\n",
        "\n",
        "### **Hints:**\n",
        "\n",
        "1) Stemming:\n",
        "    - Cuts off word endings to get the “root.”\n",
        "    - Very mechanical → may produce non-real words.\n",
        "    - Example:\n",
        "        - \"studies\" → \"studi\"\n",
        "        - \"running\" → \"run\"\n",
        "\n",
        "2) Lemmatization:\n",
        "    - Smarter → uses vocabulary + grammar rules.\n",
        "    - Always gives a real word (the **lemma**).\n",
        "    - Example:\n",
        "        - \"studies\" → \"study\"\n",
        "        - \"running\" → \"run\"\n",
        "\n",
        "3) Part-of-Speech (POS) tagging means labeling each word in a sentence with its grammatical role — like **noun, verb, adjective, adverb, pronoun, etc.**\n",
        "\n",
        "    - Example:\n",
        "        - Sentence → *“The cat is sleeping on the mat.”*\n",
        "\n",
        "    - POS tags →\n",
        "        - The → Determiner (DT)\n",
        "        - cat → Noun (NN)\n",
        "        - is → Verb (VBZ)\n",
        "        - sleeping → Verb (VBG)\n",
        "        - on → Preposition (IN)\n",
        "        - the → Determiner (DT)\n",
        "        - mat → Noun (NN)\n",
        "\n",
        "    - **In short:** POS tagging helps machines understand **how words function in a sentence**, which is useful in NLP tasks like machine translation, text classification, and question answering.\n"
      ]
    },
    {
      "cell_type": "markdown",
      "id": "3cec98bb",
      "metadata": {
        "id": "3cec98bb"
      },
      "source": [
        "---\n",
        "\n",
        "### ✅ Recap\n",
        "\n",
        "This week you learned:\n",
        "\n",
        "* **LLMs**: Types, uses, must-knows.\n",
        "* **STT & TTS**: How they connect with LLMs.\n",
        "* **APIs**: Connecting to LLMs with Groq.\n",
        "* Built your first chatbot foundation."
      ]
    }
  ],
  "metadata": {
    "kernelspec": {
      "display_name": "Python 3",
      "language": "python",
      "name": "python3"
    },
    "language_info": {
      "codemirror_mode": {
        "name": "ipython",
        "version": 3
      },
      "file_extension": ".py",
      "mimetype": "text/x-python",
      "name": "python",
      "nbconvert_exporter": "python",
      "pygments_lexer": "ipython3",
      "version": "3.11.0"
    },
    "colab": {
      "provenance": []
    }
  },
  "nbformat": 4,
  "nbformat_minor": 5
}